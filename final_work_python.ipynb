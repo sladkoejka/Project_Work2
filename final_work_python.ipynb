{
 "cells": [
  {
   "cell_type": "markdown",
   "metadata": {},
   "source": [
    "1.Загрузить файл hr.csv."
   ]
  },
  {
   "cell_type": "code",
   "execution_count": 1,
   "metadata": {},
   "outputs": [],
   "source": [
    "import numpy as np\n",
    "from scipy.stats import t\n",
    "from scipy.stats import norm\n",
    "import matplotlib.pyplot as plt\n",
    "from scipy import stats\n",
    "import pandas as pd\n",
    "import io\n",
    "import requests\n",
    "import seaborn as sns\n",
    "import statistics\n",
    "%matplotlib inline\n"
   ]
  },
  {
   "cell_type": "code",
   "execution_count": 2,
   "metadata": {},
   "outputs": [
    {
     "data": {
      "text/html": [
       "<div>\n",
       "<style scoped>\n",
       "    .dataframe tbody tr th:only-of-type {\n",
       "        vertical-align: middle;\n",
       "    }\n",
       "\n",
       "    .dataframe tbody tr th {\n",
       "        vertical-align: top;\n",
       "    }\n",
       "\n",
       "    .dataframe thead th {\n",
       "        text-align: right;\n",
       "    }\n",
       "</style>\n",
       "<table border=\"1\" class=\"dataframe\">\n",
       "  <thead>\n",
       "    <tr style=\"text-align: right;\">\n",
       "      <th></th>\n",
       "      <th>satisfaction_level</th>\n",
       "      <th>last_evaluation</th>\n",
       "      <th>number_project</th>\n",
       "      <th>average_montly_hours</th>\n",
       "      <th>time_spend_company</th>\n",
       "      <th>Work_accident</th>\n",
       "      <th>left</th>\n",
       "      <th>promotion_last_5years</th>\n",
       "      <th>sales</th>\n",
       "      <th>salary</th>\n",
       "    </tr>\n",
       "  </thead>\n",
       "  <tbody>\n",
       "    <tr>\n",
       "      <th>0</th>\n",
       "      <td>0.38</td>\n",
       "      <td>0.53</td>\n",
       "      <td>2</td>\n",
       "      <td>157</td>\n",
       "      <td>3</td>\n",
       "      <td>0</td>\n",
       "      <td>1</td>\n",
       "      <td>0</td>\n",
       "      <td>sales</td>\n",
       "      <td>low</td>\n",
       "    </tr>\n",
       "    <tr>\n",
       "      <th>1</th>\n",
       "      <td>0.80</td>\n",
       "      <td>0.86</td>\n",
       "      <td>5</td>\n",
       "      <td>262</td>\n",
       "      <td>6</td>\n",
       "      <td>0</td>\n",
       "      <td>1</td>\n",
       "      <td>0</td>\n",
       "      <td>sales</td>\n",
       "      <td>medium</td>\n",
       "    </tr>\n",
       "    <tr>\n",
       "      <th>2</th>\n",
       "      <td>0.11</td>\n",
       "      <td>0.88</td>\n",
       "      <td>7</td>\n",
       "      <td>272</td>\n",
       "      <td>4</td>\n",
       "      <td>0</td>\n",
       "      <td>1</td>\n",
       "      <td>0</td>\n",
       "      <td>sales</td>\n",
       "      <td>medium</td>\n",
       "    </tr>\n",
       "    <tr>\n",
       "      <th>3</th>\n",
       "      <td>0.72</td>\n",
       "      <td>0.87</td>\n",
       "      <td>5</td>\n",
       "      <td>223</td>\n",
       "      <td>5</td>\n",
       "      <td>0</td>\n",
       "      <td>1</td>\n",
       "      <td>0</td>\n",
       "      <td>sales</td>\n",
       "      <td>low</td>\n",
       "    </tr>\n",
       "    <tr>\n",
       "      <th>4</th>\n",
       "      <td>0.37</td>\n",
       "      <td>0.52</td>\n",
       "      <td>2</td>\n",
       "      <td>159</td>\n",
       "      <td>3</td>\n",
       "      <td>0</td>\n",
       "      <td>1</td>\n",
       "      <td>0</td>\n",
       "      <td>sales</td>\n",
       "      <td>low</td>\n",
       "    </tr>\n",
       "  </tbody>\n",
       "</table>\n",
       "</div>"
      ],
      "text/plain": [
       "   satisfaction_level  last_evaluation  number_project  average_montly_hours  \\\n",
       "0                0.38             0.53               2                   157   \n",
       "1                0.80             0.86               5                   262   \n",
       "2                0.11             0.88               7                   272   \n",
       "3                0.72             0.87               5                   223   \n",
       "4                0.37             0.52               2                   159   \n",
       "\n",
       "   time_spend_company  Work_accident  left  promotion_last_5years  sales  \\\n",
       "0                   3              0     1                      0  sales   \n",
       "1                   6              0     1                      0  sales   \n",
       "2                   4              0     1                      0  sales   \n",
       "3                   5              0     1                      0  sales   \n",
       "4                   3              0     1                      0  sales   \n",
       "\n",
       "   salary  \n",
       "0     low  \n",
       "1  medium  \n",
       "2  medium  \n",
       "3     low  \n",
       "4     low  "
      ]
     },
     "execution_count": 2,
     "metadata": {},
     "output_type": "execute_result"
    }
   ],
   "source": [
    "data = pd.read_csv(\"HR.csv\")\n",
    "data.head()"
   ]
  },
  {
   "cell_type": "markdown",
   "metadata": {},
   "source": [
    "2. Рассчитать основные статистики для переменных (среднее,медиана,мода,мин/макс,сред.отклонение)."
   ]
  },
  {
   "cell_type": "code",
   "execution_count": 8,
   "metadata": {},
   "outputs": [
    {
     "data": {
      "text/html": [
       "<div>\n",
       "<style scoped>\n",
       "    .dataframe tbody tr th:only-of-type {\n",
       "        vertical-align: middle;\n",
       "    }\n",
       "\n",
       "    .dataframe tbody tr th {\n",
       "        vertical-align: top;\n",
       "    }\n",
       "\n",
       "    .dataframe thead th {\n",
       "        text-align: right;\n",
       "    }\n",
       "</style>\n",
       "<table border=\"1\" class=\"dataframe\">\n",
       "  <thead>\n",
       "    <tr style=\"text-align: right;\">\n",
       "      <th></th>\n",
       "      <th>satisfaction_level</th>\n",
       "      <th>last_evaluation</th>\n",
       "      <th>number_project</th>\n",
       "      <th>average_montly_hours</th>\n",
       "      <th>time_spend_company</th>\n",
       "      <th>Work_accident</th>\n",
       "      <th>left</th>\n",
       "      <th>promotion_last_5years</th>\n",
       "    </tr>\n",
       "  </thead>\n",
       "  <tbody>\n",
       "    <tr>\n",
       "      <th>count</th>\n",
       "      <td>14999.000000</td>\n",
       "      <td>14999.000000</td>\n",
       "      <td>14999.000000</td>\n",
       "      <td>14999.000000</td>\n",
       "      <td>14999.000000</td>\n",
       "      <td>14999.000000</td>\n",
       "      <td>14999.000000</td>\n",
       "      <td>14999.000000</td>\n",
       "    </tr>\n",
       "    <tr>\n",
       "      <th>mean</th>\n",
       "      <td>0.612834</td>\n",
       "      <td>0.716102</td>\n",
       "      <td>3.803054</td>\n",
       "      <td>201.050337</td>\n",
       "      <td>3.498233</td>\n",
       "      <td>0.144610</td>\n",
       "      <td>0.238083</td>\n",
       "      <td>0.021268</td>\n",
       "    </tr>\n",
       "    <tr>\n",
       "      <th>std</th>\n",
       "      <td>0.248631</td>\n",
       "      <td>0.171169</td>\n",
       "      <td>1.232592</td>\n",
       "      <td>49.943099</td>\n",
       "      <td>1.460136</td>\n",
       "      <td>0.351719</td>\n",
       "      <td>0.425924</td>\n",
       "      <td>0.144281</td>\n",
       "    </tr>\n",
       "    <tr>\n",
       "      <th>min</th>\n",
       "      <td>0.090000</td>\n",
       "      <td>0.360000</td>\n",
       "      <td>2.000000</td>\n",
       "      <td>96.000000</td>\n",
       "      <td>2.000000</td>\n",
       "      <td>0.000000</td>\n",
       "      <td>0.000000</td>\n",
       "      <td>0.000000</td>\n",
       "    </tr>\n",
       "    <tr>\n",
       "      <th>25%</th>\n",
       "      <td>0.440000</td>\n",
       "      <td>0.560000</td>\n",
       "      <td>3.000000</td>\n",
       "      <td>156.000000</td>\n",
       "      <td>3.000000</td>\n",
       "      <td>0.000000</td>\n",
       "      <td>0.000000</td>\n",
       "      <td>0.000000</td>\n",
       "    </tr>\n",
       "    <tr>\n",
       "      <th>50%</th>\n",
       "      <td>0.640000</td>\n",
       "      <td>0.720000</td>\n",
       "      <td>4.000000</td>\n",
       "      <td>200.000000</td>\n",
       "      <td>3.000000</td>\n",
       "      <td>0.000000</td>\n",
       "      <td>0.000000</td>\n",
       "      <td>0.000000</td>\n",
       "    </tr>\n",
       "    <tr>\n",
       "      <th>75%</th>\n",
       "      <td>0.820000</td>\n",
       "      <td>0.870000</td>\n",
       "      <td>5.000000</td>\n",
       "      <td>245.000000</td>\n",
       "      <td>4.000000</td>\n",
       "      <td>0.000000</td>\n",
       "      <td>0.000000</td>\n",
       "      <td>0.000000</td>\n",
       "    </tr>\n",
       "    <tr>\n",
       "      <th>max</th>\n",
       "      <td>1.000000</td>\n",
       "      <td>1.000000</td>\n",
       "      <td>7.000000</td>\n",
       "      <td>310.000000</td>\n",
       "      <td>10.000000</td>\n",
       "      <td>1.000000</td>\n",
       "      <td>1.000000</td>\n",
       "      <td>1.000000</td>\n",
       "    </tr>\n",
       "  </tbody>\n",
       "</table>\n",
       "</div>"
      ],
      "text/plain": [
       "       satisfaction_level  last_evaluation  number_project  \\\n",
       "count        14999.000000     14999.000000    14999.000000   \n",
       "mean             0.612834         0.716102        3.803054   \n",
       "std              0.248631         0.171169        1.232592   \n",
       "min              0.090000         0.360000        2.000000   \n",
       "25%              0.440000         0.560000        3.000000   \n",
       "50%              0.640000         0.720000        4.000000   \n",
       "75%              0.820000         0.870000        5.000000   \n",
       "max              1.000000         1.000000        7.000000   \n",
       "\n",
       "       average_montly_hours  time_spend_company  Work_accident          left  \\\n",
       "count          14999.000000        14999.000000   14999.000000  14999.000000   \n",
       "mean             201.050337            3.498233       0.144610      0.238083   \n",
       "std               49.943099            1.460136       0.351719      0.425924   \n",
       "min               96.000000            2.000000       0.000000      0.000000   \n",
       "25%              156.000000            3.000000       0.000000      0.000000   \n",
       "50%              200.000000            3.000000       0.000000      0.000000   \n",
       "75%              245.000000            4.000000       0.000000      0.000000   \n",
       "max              310.000000           10.000000       1.000000      1.000000   \n",
       "\n",
       "       promotion_last_5years  \n",
       "count           14999.000000  \n",
       "mean                0.021268  \n",
       "std                 0.144281  \n",
       "min                 0.000000  \n",
       "25%                 0.000000  \n",
       "50%                 0.000000  \n",
       "75%                 0.000000  \n",
       "max                 1.000000  "
      ]
     },
     "execution_count": 8,
     "metadata": {},
     "output_type": "execute_result"
    }
   ],
   "source": [
    "data.describe()"
   ]
  },
  {
   "cell_type": "code",
   "execution_count": 9,
   "metadata": {},
   "outputs": [
    {
     "data": {
      "text/plain": [
       "satisfaction_level         0.64\n",
       "last_evaluation            0.72\n",
       "number_project             4.00\n",
       "average_montly_hours     200.00\n",
       "time_spend_company         3.00\n",
       "Work_accident              0.00\n",
       "left                       0.00\n",
       "promotion_last_5years      0.00\n",
       "dtype: float64"
      ]
     },
     "execution_count": 9,
     "metadata": {},
     "output_type": "execute_result"
    }
   ],
   "source": [
    "data.median() # медиана"
   ]
  },
  {
   "cell_type": "code",
   "execution_count": 10,
   "metadata": {},
   "outputs": [
    {
     "name": "stdout",
     "output_type": "stream",
     "text": [
      "moda for column satisfaction_level: 0.1\n",
      "moda for column last_evaluation: 0.55\n",
      "moda for column number_project: 4\n",
      "for column average_montly_hours, not mode\n",
      "moda for column time_spend_company: 3\n",
      "moda for column Work_accident: 0\n",
      "moda for column left: 0\n",
      "moda for column promotion_last_5years: 0\n",
      "moda for column sales: sales\n",
      "moda for column salary: low\n"
     ]
    }
   ],
   "source": [
    "for i in data.columns:\n",
    "    try:\n",
    "        print(f'moda for column {i}: {statistics.mode(data[i])}')\n",
    "    except:\n",
    "        print(f'for column {i}, not mode')"
   ]
  },
  {
   "cell_type": "markdown",
   "metadata": {},
   "source": [
    "3.Рассчитать и визуализировать корреляционную матрицу для переменных."
   ]
  },
  {
   "cell_type": "code",
   "execution_count": 11,
   "metadata": {},
   "outputs": [
    {
     "data": {
      "image/png": "[encoded data removed]",
      "text/plain": [
       "<Figure size 864x864 with 2 Axes>"
      ]
     },
     "metadata": {},
     "output_type": "display_data"
    }
   ],
   "source": [
    "import seaborn as sns\n",
    "sns.heatmap(data.corr(),annot=True,cmap='RdYlGn',linewidths=0.2) #data.corr()-->correlation matrix\n",
    "fig=plt.gcf()\n",
    "fig.set_size_inches(12,12)\n",
    "plt.show()"
   ]
  },
  {
   "cell_type": "markdown",
   "metadata": {},
   "source": [
    "4.Визуализировать несколько взаимосвязей между переменными."
   ]
  },
  {
   "cell_type": "code",
   "execution_count": 24,
   "metadata": {},
   "outputs": [
    {
     "data": {
      "text/plain": [
       "<seaborn.axisgrid.JointGrid at 0x2ad1c404048>"
      ]
     },
     "execution_count": 24,
     "metadata": {},
     "output_type": "execute_result"
    },
    {
     "data": {
      "image/png": "[encoded data removed]",
      "text/plain": [
       "<Figure size 432x432 with 3 Axes>"
      ]
     },
     "metadata": {},
     "output_type": "display_data"
    }
   ],
   "source": [
    "bs = data.groupby('time_spend_company').mean().reset_index()\n",
    "\n",
    "sns.jointplot(x='time_spend_company', y='satisfaction_level', \n",
    "              data=bs)\n",
    "# Взимосвязь времени работы в компании с удовлетворённостью работой"
   ]
  },
  {
   "cell_type": "markdown",
   "metadata": {},
   "source": [
    "5.С использованием t-test статистики проверить взаимосвязи между несколькими переменными."
   ]
  },
  {
   "cell_type": "code",
   "execution_count": 13,
   "metadata": {},
   "outputs": [
    {
     "data": {
      "text/plain": [
       "Ttest_indResult(statistic=3.138000000628602, pvalue=0.001725866864809302)"
      ]
     },
     "execution_count": 13,
     "metadata": {},
     "output_type": "execute_result"
    }
   ],
   "source": [
    "d1 = data[(data['salary']=='low')]['average_montly_hours'].head(1000)\n",
    "\n",
    "d2 = data[(data['salary']=='high')]['average_montly_hours'].head(1000)\n",
    "\n",
    "stats.ttest_ind(d1, d2)"
   ]
  },
  {
   "cell_type": "markdown",
   "metadata": {},
   "source": [
    "*p value ниже 0.05, значит различия между группами  c низкой и высокой зарплатой присутствуют*"
   ]
  },
  {
   "cell_type": "markdown",
   "metadata": {},
   "source": [
    "6.Рассчитать сколько работников работает в каждом департаменте."
   ]
  },
  {
   "cell_type": "code",
   "execution_count": 14,
   "metadata": {},
   "outputs": [
    {
     "data": {
      "text/plain": [
       "4    4365\n",
       "3    4055\n",
       "5    2761\n",
       "2    2388\n",
       "6    1174\n",
       "7     256\n",
       "Name: number_project, dtype: int64"
      ]
     },
     "execution_count": 14,
     "metadata": {},
     "output_type": "execute_result"
    }
   ],
   "source": [
    "data['number_project'].value_counts()"
   ]
  },
  {
   "cell_type": "markdown",
   "metadata": {},
   "source": [
    "7.Показать распределение сотрудников по зарплатам."
   ]
  },
  {
   "cell_type": "code",
   "execution_count": 15,
   "metadata": {},
   "outputs": [
    {
     "data": {
      "text/plain": [
       "low       7316\n",
       "medium    6446\n",
       "high      1237\n",
       "Name: salary, dtype: int64"
      ]
     },
     "execution_count": 15,
     "metadata": {},
     "output_type": "execute_result"
    }
   ],
   "source": [
    "data['salary'].value_counts()"
   ]
  },
  {
   "cell_type": "markdown",
   "metadata": {},
   "source": [
    "*8.Показать распределение сотрудников по зарплатам совместно с департаментами*"
   ]
  },
  {
   "cell_type": "code",
   "execution_count": 18,
   "metadata": {},
   "outputs": [
    {
     "data": {
      "text/html": [
       "<style  type=\"text/css\" >\n",
       "    #T_b94fc31c_ad81_11e9_8d74_185680ceedcerow0_col0 {\n",
       "            width:  10em;\n",
       "             height:  80%;\n",
       "            background:  linear-gradient(90deg,#d65f5f 1.9%, transparent 1.9%);\n",
       "        }    #T_b94fc31c_ad81_11e9_8d74_185680ceedcerow1_col0 {\n",
       "            width:  10em;\n",
       "             height:  80%;\n",
       "            background:  linear-gradient(90deg,#d65f5f 27.5%, transparent 27.5%);\n",
       "        }    #T_b94fc31c_ad81_11e9_8d74_185680ceedcerow2_col0 {\n",
       "            width:  10em;\n",
       "             height:  80%;\n",
       "            background:  linear-gradient(90deg,#d65f5f 23.9%, transparent 23.9%);\n",
       "        }    #T_b94fc31c_ad81_11e9_8d74_185680ceedcerow3_col0 {\n",
       "            width:  10em;\n",
       "             height:  80%;\n",
       "            background:  linear-gradient(90deg,#d65f5f 0.3%, transparent 0.3%);\n",
       "        }    #T_b94fc31c_ad81_11e9_8d74_185680ceedcerow4_col0 {\n",
       "            width:  10em;\n",
       "             height:  80%;\n",
       "            background:  linear-gradient(90deg,#d65f5f 15.5%, transparent 15.5%);\n",
       "        }    #T_b94fc31c_ad81_11e9_8d74_185680ceedcerow5_col0 {\n",
       "            width:  10em;\n",
       "             height:  80%;\n",
       "            background:  linear-gradient(90deg,#d65f5f 15.9%, transparent 15.9%);\n",
       "        }    #T_b94fc31c_ad81_11e9_8d74_185680ceedcerow6_col0 {\n",
       "            width:  10em;\n",
       "             height:  80%;\n",
       "            background:  linear-gradient(90deg,#d65f5f 1.4%, transparent 1.4%);\n",
       "        }    #T_b94fc31c_ad81_11e9_8d74_185680ceedcerow7_col0 {\n",
       "            width:  10em;\n",
       "             height:  80%;\n",
       "            background:  linear-gradient(90deg,#d65f5f 15.2%, transparent 15.2%);\n",
       "        }    #T_b94fc31c_ad81_11e9_8d74_185680ceedcerow8_col0 {\n",
       "            width:  10em;\n",
       "             height:  80%;\n",
       "            background:  linear-gradient(90deg,#d65f5f 14.1%, transparent 14.1%);\n",
       "        }    #T_b94fc31c_ad81_11e9_8d74_185680ceedcerow9_col0 {\n",
       "            width:  10em;\n",
       "             height:  80%;\n",
       "        }    #T_b94fc31c_ad81_11e9_8d74_185680ceedcerow10_col0 {\n",
       "            width:  10em;\n",
       "             height:  80%;\n",
       "            background:  linear-gradient(90deg,#d65f5f 14.1%, transparent 14.1%);\n",
       "        }    #T_b94fc31c_ad81_11e9_8d74_185680ceedcerow11_col0 {\n",
       "            width:  10em;\n",
       "             height:  80%;\n",
       "            background:  linear-gradient(90deg,#d65f5f 15.3%, transparent 15.3%);\n",
       "        }    #T_b94fc31c_ad81_11e9_8d74_185680ceedcerow12_col0 {\n",
       "            width:  10em;\n",
       "             height:  80%;\n",
       "            background:  linear-gradient(90deg,#d65f5f 8.8%, transparent 8.8%);\n",
       "        }    #T_b94fc31c_ad81_11e9_8d74_185680ceedcerow13_col0 {\n",
       "            width:  10em;\n",
       "             height:  80%;\n",
       "            background:  linear-gradient(90deg,#d65f5f 6.6%, transparent 6.6%);\n",
       "        }    #T_b94fc31c_ad81_11e9_8d74_185680ceedcerow14_col0 {\n",
       "            width:  10em;\n",
       "             height:  80%;\n",
       "            background:  linear-gradient(90deg,#d65f5f 8.8%, transparent 8.8%);\n",
       "        }    #T_b94fc31c_ad81_11e9_8d74_185680ceedcerow15_col0 {\n",
       "            width:  10em;\n",
       "             height:  80%;\n",
       "            background:  linear-gradient(90deg,#d65f5f 1.7%, transparent 1.7%);\n",
       "        }    #T_b94fc31c_ad81_11e9_8d74_185680ceedcerow16_col0 {\n",
       "            width:  10em;\n",
       "             height:  80%;\n",
       "            background:  linear-gradient(90deg,#d65f5f 17.4%, transparent 17.4%);\n",
       "        }    #T_b94fc31c_ad81_11e9_8d74_185680ceedcerow17_col0 {\n",
       "            width:  10em;\n",
       "             height:  80%;\n",
       "            background:  linear-gradient(90deg,#d65f5f 16.1%, transparent 16.1%);\n",
       "        }    #T_b94fc31c_ad81_11e9_8d74_185680ceedcerow18_col0 {\n",
       "            width:  10em;\n",
       "             height:  80%;\n",
       "            background:  linear-gradient(90deg,#d65f5f 1.1%, transparent 1.1%);\n",
       "        }    #T_b94fc31c_ad81_11e9_8d74_185680ceedcerow19_col0 {\n",
       "            width:  10em;\n",
       "             height:  80%;\n",
       "            background:  linear-gradient(90deg,#d65f5f 19.8%, transparent 19.8%);\n",
       "        }    #T_b94fc31c_ad81_11e9_8d74_185680ceedcerow20_col0 {\n",
       "            width:  10em;\n",
       "             height:  80%;\n",
       "            background:  linear-gradient(90deg,#d65f5f 16.5%, transparent 16.5%);\n",
       "        }    #T_b94fc31c_ad81_11e9_8d74_185680ceedcerow21_col0 {\n",
       "            width:  10em;\n",
       "             height:  80%;\n",
       "            background:  linear-gradient(90deg,#d65f5f 10.9%, transparent 10.9%);\n",
       "        }    #T_b94fc31c_ad81_11e9_8d74_185680ceedcerow22_col0 {\n",
       "            width:  10em;\n",
       "             height:  80%;\n",
       "            background:  linear-gradient(90deg,#d65f5f 100.0%, transparent 100.0%);\n",
       "        }    #T_b94fc31c_ad81_11e9_8d74_185680ceedcerow23_col0 {\n",
       "            width:  10em;\n",
       "             height:  80%;\n",
       "            background:  linear-gradient(90deg,#d65f5f 84.1%, transparent 84.1%);\n",
       "        }    #T_b94fc31c_ad81_11e9_8d74_185680ceedcerow24_col0 {\n",
       "            width:  10em;\n",
       "             height:  80%;\n",
       "            background:  linear-gradient(90deg,#d65f5f 4.7%, transparent 4.7%);\n",
       "        }    #T_b94fc31c_ad81_11e9_8d74_185680ceedcerow25_col0 {\n",
       "            width:  10em;\n",
       "             height:  80%;\n",
       "            background:  linear-gradient(90deg,#d65f5f 53.6%, transparent 53.6%);\n",
       "        }    #T_b94fc31c_ad81_11e9_8d74_185680ceedcerow26_col0 {\n",
       "            width:  10em;\n",
       "             height:  80%;\n",
       "            background:  linear-gradient(90deg,#d65f5f 43.7%, transparent 43.7%);\n",
       "        }    #T_b94fc31c_ad81_11e9_8d74_185680ceedcerow27_col0 {\n",
       "            width:  10em;\n",
       "             height:  80%;\n",
       "            background:  linear-gradient(90deg,#d65f5f 7.6%, transparent 7.6%);\n",
       "        }    #T_b94fc31c_ad81_11e9_8d74_185680ceedcerow28_col0 {\n",
       "            width:  10em;\n",
       "             height:  80%;\n",
       "            background:  linear-gradient(90deg,#d65f5f 64.6%, transparent 64.6%);\n",
       "        }    #T_b94fc31c_ad81_11e9_8d74_185680ceedcerow29_col0 {\n",
       "            width:  10em;\n",
       "             height:  80%;\n",
       "            background:  linear-gradient(90deg,#d65f5f 53.7%, transparent 53.7%);\n",
       "        }</style><table id=\"T_b94fc31c_ad81_11e9_8d74_185680ceedce\" ><thead>    <tr>        <th class=\"blank\" ></th>        <th class=\"blank level0\" ></th>        <th class=\"col_heading level0 col0\" >0</th>    </tr>    <tr>        <th class=\"index_name level0\" >sales</th>        <th class=\"index_name level1\" >salary</th>        <th class=\"blank\" ></th>    </tr></thead><tbody>\n",
       "                <tr>\n",
       "                        <th id=\"T_b94fc31c_ad81_11e9_8d74_185680ceedcelevel0_row0\" class=\"row_heading level0 row0\" rowspan=3>IT</th>\n",
       "                        <th id=\"T_b94fc31c_ad81_11e9_8d74_185680ceedcelevel1_row0\" class=\"row_heading level1 row0\" >high</th>\n",
       "                        <td id=\"T_b94fc31c_ad81_11e9_8d74_185680ceedcerow0_col0\" class=\"data row0 col0\" >83</td>\n",
       "            </tr>\n",
       "            <tr>\n",
       "                                <th id=\"T_b94fc31c_ad81_11e9_8d74_185680ceedcelevel1_row1\" class=\"row_heading level1 row1\" >low</th>\n",
       "                        <td id=\"T_b94fc31c_ad81_11e9_8d74_185680ceedcerow1_col0\" class=\"data row1 col0\" >609</td>\n",
       "            </tr>\n",
       "            <tr>\n",
       "                                <th id=\"T_b94fc31c_ad81_11e9_8d74_185680ceedcelevel1_row2\" class=\"row_heading level1 row2\" >medium</th>\n",
       "                        <td id=\"T_b94fc31c_ad81_11e9_8d74_185680ceedcerow2_col0\" class=\"data row2 col0\" >535</td>\n",
       "            </tr>\n",
       "            <tr>\n",
       "                        <th id=\"T_b94fc31c_ad81_11e9_8d74_185680ceedcelevel0_row3\" class=\"row_heading level0 row3\" rowspan=3>RandD</th>\n",
       "                        <th id=\"T_b94fc31c_ad81_11e9_8d74_185680ceedcelevel1_row3\" class=\"row_heading level1 row3\" >high</th>\n",
       "                        <td id=\"T_b94fc31c_ad81_11e9_8d74_185680ceedcerow3_col0\" class=\"data row3 col0\" >51</td>\n",
       "            </tr>\n",
       "            <tr>\n",
       "                                <th id=\"T_b94fc31c_ad81_11e9_8d74_185680ceedcelevel1_row4\" class=\"row_heading level1 row4\" >low</th>\n",
       "                        <td id=\"T_b94fc31c_ad81_11e9_8d74_185680ceedcerow4_col0\" class=\"data row4 col0\" >364</td>\n",
       "            </tr>\n",
       "            <tr>\n",
       "                                <th id=\"T_b94fc31c_ad81_11e9_8d74_185680ceedcelevel1_row5\" class=\"row_heading level1 row5\" >medium</th>\n",
       "                        <td id=\"T_b94fc31c_ad81_11e9_8d74_185680ceedcerow5_col0\" class=\"data row5 col0\" >372</td>\n",
       "            </tr>\n",
       "            <tr>\n",
       "                        <th id=\"T_b94fc31c_ad81_11e9_8d74_185680ceedcelevel0_row6\" class=\"row_heading level0 row6\" rowspan=3>accounting</th>\n",
       "                        <th id=\"T_b94fc31c_ad81_11e9_8d74_185680ceedcelevel1_row6\" class=\"row_heading level1 row6\" >high</th>\n",
       "                        <td id=\"T_b94fc31c_ad81_11e9_8d74_185680ceedcerow6_col0\" class=\"data row6 col0\" >74</td>\n",
       "            </tr>\n",
       "            <tr>\n",
       "                                <th id=\"T_b94fc31c_ad81_11e9_8d74_185680ceedcelevel1_row7\" class=\"row_heading level1 row7\" >low</th>\n",
       "                        <td id=\"T_b94fc31c_ad81_11e9_8d74_185680ceedcerow7_col0\" class=\"data row7 col0\" >358</td>\n",
       "            </tr>\n",
       "            <tr>\n",
       "                                <th id=\"T_b94fc31c_ad81_11e9_8d74_185680ceedcelevel1_row8\" class=\"row_heading level1 row8\" >medium</th>\n",
       "                        <td id=\"T_b94fc31c_ad81_11e9_8d74_185680ceedcerow8_col0\" class=\"data row8 col0\" >335</td>\n",
       "            </tr>\n",
       "            <tr>\n",
       "                        <th id=\"T_b94fc31c_ad81_11e9_8d74_185680ceedcelevel0_row9\" class=\"row_heading level0 row9\" rowspan=3>hr</th>\n",
       "                        <th id=\"T_b94fc31c_ad81_11e9_8d74_185680ceedcelevel1_row9\" class=\"row_heading level1 row9\" >high</th>\n",
       "                        <td id=\"T_b94fc31c_ad81_11e9_8d74_185680ceedcerow9_col0\" class=\"data row9 col0\" >45</td>\n",
       "            </tr>\n",
       "            <tr>\n",
       "                                <th id=\"T_b94fc31c_ad81_11e9_8d74_185680ceedcelevel1_row10\" class=\"row_heading level1 row10\" >low</th>\n",
       "                        <td id=\"T_b94fc31c_ad81_11e9_8d74_185680ceedcerow10_col0\" class=\"data row10 col0\" >335</td>\n",
       "            </tr>\n",
       "            <tr>\n",
       "                                <th id=\"T_b94fc31c_ad81_11e9_8d74_185680ceedcelevel1_row11\" class=\"row_heading level1 row11\" >medium</th>\n",
       "                        <td id=\"T_b94fc31c_ad81_11e9_8d74_185680ceedcerow11_col0\" class=\"data row11 col0\" >359</td>\n",
       "            </tr>\n",
       "            <tr>\n",
       "                        <th id=\"T_b94fc31c_ad81_11e9_8d74_185680ceedcelevel0_row12\" class=\"row_heading level0 row12\" rowspan=3>management</th>\n",
       "                        <th id=\"T_b94fc31c_ad81_11e9_8d74_185680ceedcelevel1_row12\" class=\"row_heading level1 row12\" >high</th>\n",
       "                        <td id=\"T_b94fc31c_ad81_11e9_8d74_185680ceedcerow12_col0\" class=\"data row12 col0\" >225</td>\n",
       "            </tr>\n",
       "            <tr>\n",
       "                                <th id=\"T_b94fc31c_ad81_11e9_8d74_185680ceedcelevel1_row13\" class=\"row_heading level1 row13\" >low</th>\n",
       "                        <td id=\"T_b94fc31c_ad81_11e9_8d74_185680ceedcerow13_col0\" class=\"data row13 col0\" >180</td>\n",
       "            </tr>\n",
       "            <tr>\n",
       "                                <th id=\"T_b94fc31c_ad81_11e9_8d74_185680ceedcelevel1_row14\" class=\"row_heading level1 row14\" >medium</th>\n",
       "                        <td id=\"T_b94fc31c_ad81_11e9_8d74_185680ceedcerow14_col0\" class=\"data row14 col0\" >225</td>\n",
       "            </tr>\n",
       "            <tr>\n",
       "                        <th id=\"T_b94fc31c_ad81_11e9_8d74_185680ceedcelevel0_row15\" class=\"row_heading level0 row15\" rowspan=3>marketing</th>\n",
       "                        <th id=\"T_b94fc31c_ad81_11e9_8d74_185680ceedcelevel1_row15\" class=\"row_heading level1 row15\" >high</th>\n",
       "                        <td id=\"T_b94fc31c_ad81_11e9_8d74_185680ceedcerow15_col0\" class=\"data row15 col0\" >80</td>\n",
       "            </tr>\n",
       "            <tr>\n",
       "                                <th id=\"T_b94fc31c_ad81_11e9_8d74_185680ceedcelevel1_row16\" class=\"row_heading level1 row16\" >low</th>\n",
       "                        <td id=\"T_b94fc31c_ad81_11e9_8d74_185680ceedcerow16_col0\" class=\"data row16 col0\" >402</td>\n",
       "            </tr>\n",
       "            <tr>\n",
       "                                <th id=\"T_b94fc31c_ad81_11e9_8d74_185680ceedcelevel1_row17\" class=\"row_heading level1 row17\" >medium</th>\n",
       "                        <td id=\"T_b94fc31c_ad81_11e9_8d74_185680ceedcerow17_col0\" class=\"data row17 col0\" >376</td>\n",
       "            </tr>\n",
       "            <tr>\n",
       "                        <th id=\"T_b94fc31c_ad81_11e9_8d74_185680ceedcelevel0_row18\" class=\"row_heading level0 row18\" rowspan=3>product_mng</th>\n",
       "                        <th id=\"T_b94fc31c_ad81_11e9_8d74_185680ceedcelevel1_row18\" class=\"row_heading level1 row18\" >high</th>\n",
       "                        <td id=\"T_b94fc31c_ad81_11e9_8d74_185680ceedcerow18_col0\" class=\"data row18 col0\" >68</td>\n",
       "            </tr>\n",
       "            <tr>\n",
       "                                <th id=\"T_b94fc31c_ad81_11e9_8d74_185680ceedcelevel1_row19\" class=\"row_heading level1 row19\" >low</th>\n",
       "                        <td id=\"T_b94fc31c_ad81_11e9_8d74_185680ceedcerow19_col0\" class=\"data row19 col0\" >451</td>\n",
       "            </tr>\n",
       "            <tr>\n",
       "                                <th id=\"T_b94fc31c_ad81_11e9_8d74_185680ceedcelevel1_row20\" class=\"row_heading level1 row20\" >medium</th>\n",
       "                        <td id=\"T_b94fc31c_ad81_11e9_8d74_185680ceedcerow20_col0\" class=\"data row20 col0\" >383</td>\n",
       "            </tr>\n",
       "            <tr>\n",
       "                        <th id=\"T_b94fc31c_ad81_11e9_8d74_185680ceedcelevel0_row21\" class=\"row_heading level0 row21\" rowspan=3>sales</th>\n",
       "                        <th id=\"T_b94fc31c_ad81_11e9_8d74_185680ceedcelevel1_row21\" class=\"row_heading level1 row21\" >high</th>\n",
       "                        <td id=\"T_b94fc31c_ad81_11e9_8d74_185680ceedcerow21_col0\" class=\"data row21 col0\" >269</td>\n",
       "            </tr>\n",
       "            <tr>\n",
       "                                <th id=\"T_b94fc31c_ad81_11e9_8d74_185680ceedcelevel1_row22\" class=\"row_heading level1 row22\" >low</th>\n",
       "                        <td id=\"T_b94fc31c_ad81_11e9_8d74_185680ceedcerow22_col0\" class=\"data row22 col0\" >2099</td>\n",
       "            </tr>\n",
       "            <tr>\n",
       "                                <th id=\"T_b94fc31c_ad81_11e9_8d74_185680ceedcelevel1_row23\" class=\"row_heading level1 row23\" >medium</th>\n",
       "                        <td id=\"T_b94fc31c_ad81_11e9_8d74_185680ceedcerow23_col0\" class=\"data row23 col0\" >1772</td>\n",
       "            </tr>\n",
       "            <tr>\n",
       "                        <th id=\"T_b94fc31c_ad81_11e9_8d74_185680ceedcelevel0_row24\" class=\"row_heading level0 row24\" rowspan=3>support</th>\n",
       "                        <th id=\"T_b94fc31c_ad81_11e9_8d74_185680ceedcelevel1_row24\" class=\"row_heading level1 row24\" >high</th>\n",
       "                        <td id=\"T_b94fc31c_ad81_11e9_8d74_185680ceedcerow24_col0\" class=\"data row24 col0\" >141</td>\n",
       "            </tr>\n",
       "            <tr>\n",
       "                                <th id=\"T_b94fc31c_ad81_11e9_8d74_185680ceedcelevel1_row25\" class=\"row_heading level1 row25\" >low</th>\n",
       "                        <td id=\"T_b94fc31c_ad81_11e9_8d74_185680ceedcerow25_col0\" class=\"data row25 col0\" >1146</td>\n",
       "            </tr>\n",
       "            <tr>\n",
       "                                <th id=\"T_b94fc31c_ad81_11e9_8d74_185680ceedcelevel1_row26\" class=\"row_heading level1 row26\" >medium</th>\n",
       "                        <td id=\"T_b94fc31c_ad81_11e9_8d74_185680ceedcerow26_col0\" class=\"data row26 col0\" >942</td>\n",
       "            </tr>\n",
       "            <tr>\n",
       "                        <th id=\"T_b94fc31c_ad81_11e9_8d74_185680ceedcelevel0_row27\" class=\"row_heading level0 row27\" rowspan=3>technical</th>\n",
       "                        <th id=\"T_b94fc31c_ad81_11e9_8d74_185680ceedcelevel1_row27\" class=\"row_heading level1 row27\" >high</th>\n",
       "                        <td id=\"T_b94fc31c_ad81_11e9_8d74_185680ceedcerow27_col0\" class=\"data row27 col0\" >201</td>\n",
       "            </tr>\n",
       "            <tr>\n",
       "                                <th id=\"T_b94fc31c_ad81_11e9_8d74_185680ceedcelevel1_row28\" class=\"row_heading level1 row28\" >low</th>\n",
       "                        <td id=\"T_b94fc31c_ad81_11e9_8d74_185680ceedcerow28_col0\" class=\"data row28 col0\" >1372</td>\n",
       "            </tr>\n",
       "            <tr>\n",
       "                                <th id=\"T_b94fc31c_ad81_11e9_8d74_185680ceedcelevel1_row29\" class=\"row_heading level1 row29\" >medium</th>\n",
       "                        <td id=\"T_b94fc31c_ad81_11e9_8d74_185680ceedcerow29_col0\" class=\"data row29 col0\" >1147</td>\n",
       "            </tr>\n",
       "    </tbody></table>"
      ],
      "text/plain": [
       "<pandas.io.formats.style.Styler at 0x2ad1c42a400>"
      ]
     },
     "execution_count": 18,
     "metadata": {},
     "output_type": "execute_result"
    }
   ],
   "source": [
    "pd.DataFrame(data.groupby(['sales', 'salary']).size()).style.bar()"
   ]
  },
  {
   "cell_type": "markdown",
   "metadata": {},
   "source": [
    "*9. Сколько сотрудников покинули компанию*"
   ]
  },
  {
   "cell_type": "code",
   "execution_count": 20,
   "metadata": {},
   "outputs": [
    {
     "name": "stdout",
     "output_type": "stream",
     "text": [
      "Число сотрудников покинувших компанию составляет  3571  человек\n"
     ]
    }
   ],
   "source": [
    "print('Число сотрудников покинувших компанию составляет ',len(data[data['left']==1]),' человек')"
   ]
  },
  {
   "cell_type": "markdown",
   "metadata": {},
   "source": [
    "*10.Проверить несколько гипотез для данных, чтобы понять почему сотрудники покидают компанию*"
   ]
  },
  {
   "cell_type": "markdown",
   "metadata": {},
   "source": [
    "Гиоптеза 1 - у сотрудников отличается удовлетворённотьсть работой"
   ]
  },
  {
   "cell_type": "code",
   "execution_count": 21,
   "metadata": {},
   "outputs": [
    {
     "data": {
      "text/plain": [
       "Ttest_indResult(statistic=-40.30854952041722, pvalue=0.0)"
      ]
     },
     "execution_count": 21,
     "metadata": {},
     "output_type": "execute_result"
    }
   ],
   "source": [
    "stat_1 = data[data['left'] == 1]['satisfaction_level'].head(3500)\n",
    "stat_2= data[data['left'] == 0]['satisfaction_level'].head(3500)\n",
    "stats.ttest_ind(stat_1, stat_2)"
   ]
  },
  {
   "cell_type": "markdown",
   "metadata": {},
   "source": [
    "гипотеза подтверждена у уволившихся сотрудников удовлетворённость работой гораздо ниже"
   ]
  },
  {
   "cell_type": "markdown",
   "metadata": {},
   "source": [
    "Гиоптеза 2 - у сотрудников разное сренее время работы в месяц"
   ]
  },
  {
   "cell_type": "code",
   "execution_count": 22,
   "metadata": {},
   "outputs": [
    {
     "data": {
      "text/plain": [
       "Ttest_indResult(statistic=6.658273688772054, pvalue=2.9805780833980146e-11)"
      ]
     },
     "execution_count": 22,
     "metadata": {},
     "output_type": "execute_result"
    }
   ],
   "source": [
    "stat_1 = data[data['left'] == 1]['average_montly_hours'].head(3500)\n",
    "stat_2= data[data['left'] == 0]['average_montly_hours'].head(3500)\n",
    "stats.ttest_ind(stat_1, stat_2)"
   ]
  },
  {
   "cell_type": "markdown",
   "metadata": {},
   "source": [
    "гипотеза не подтвердилась, среднее вемя работы в месяце не влияет на уход."
   ]
  },
  {
   "cell_type": "code",
   "execution_count": null,
   "metadata": {},
   "outputs": [],
   "source": []
  }
 ],
 "metadata": {
  "kernelspec": {
   "display_name": "Python 3",
   "language": "python",
   "name": "python3"
  },
  "language_info": {
   "codemirror_mode": {
    "name": "ipython",
    "version": 3
   },
   "file_extension": ".py",
   "mimetype": "text/x-python",
   "name": "python",
   "nbconvert_exporter": "python",
   "pygments_lexer": "ipython3",
   "version": "3.6.8"
  }
 },
 "nbformat": 4,
 "nbformat_minor": 2
}
